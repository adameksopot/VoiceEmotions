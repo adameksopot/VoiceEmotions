{
  "nbformat": 4,
  "nbformat_minor": 0,
  "metadata": {
    "colab": {
      "name": "NewMLPModel.ipynb",
      "provenance": [],
      "collapsed_sections": []
    },
    "kernelspec": {
      "name": "python3",
      "display_name": "Python 3"
    },
    "language_info": {
      "name": "python"
    },
    "accelerator": "GPU"
  },
  "cells": [
    {
      "cell_type": "code",
      "metadata": {
        "id": "sS108BakUl6l"
      },
      "source": [
        "import pandas as pd\n",
        "import numpy as np\n",
        "from sklearn.model_selection import train_test_split\n",
        "from sklearn.neural_network import MLPClassifier \n",
        "from sklearn.metrics import accuracy_score \n",
        "from sklearn.metrics import confusion_matrix\n",
        "import matplotlib.pyplot as plt\n",
        "from sklearn import preprocessing\n",
        "from sklearn.model_selection import GridSearchCV\n",
        "from sklearn.metrics import classification_report\n",
        "import os\n",
        "import pickle\n",
        "from sklearn.decomposition import PCA\n",
        "from imblearn.under_sampling import RandomUnderSampler\n",
        "from imblearn.over_sampling import RandomOverSampler"
      ],
      "execution_count": 272,
      "outputs": []
    },
    {
      "cell_type": "code",
      "metadata": {
        "id": "FgJX-r39kD25",
        "colab": {
          "base_uri": "https://localhost:8080/",
          "height": 320
        },
        "outputId": "3ac66d37-0db8-4f9f-fd3c-e3df69352648"
      },
      "source": [
        "data = pd.read_csv('mfcc13_df.csv', index_col=False) #if needed change to mfcc22_df.csv\n",
        "labels = data.iloc[:,[-1]]\n",
        "\n",
        "data = data.drop(labels.columns,axis = 1) # dropping labels column\n",
        "data.describe()"
      ],
      "execution_count": 273,
      "outputs": [
        {
          "output_type": "execute_result",
          "data": {
            "text/html": [
              "<div>\n",
              "<style scoped>\n",
              "    .dataframe tbody tr th:only-of-type {\n",
              "        vertical-align: middle;\n",
              "    }\n",
              "\n",
              "    .dataframe tbody tr th {\n",
              "        vertical-align: top;\n",
              "    }\n",
              "\n",
              "    .dataframe thead th {\n",
              "        text-align: right;\n",
              "    }\n",
              "</style>\n",
              "<table border=\"1\" class=\"dataframe\">\n",
              "  <thead>\n",
              "    <tr style=\"text-align: right;\">\n",
              "      <th></th>\n",
              "      <th>0</th>\n",
              "      <th>1</th>\n",
              "      <th>2</th>\n",
              "      <th>3</th>\n",
              "      <th>4</th>\n",
              "      <th>5</th>\n",
              "      <th>6</th>\n",
              "      <th>7</th>\n",
              "      <th>8</th>\n",
              "      <th>9</th>\n",
              "      <th>10</th>\n",
              "      <th>11</th>\n",
              "      <th>12</th>\n",
              "    </tr>\n",
              "  </thead>\n",
              "  <tbody>\n",
              "    <tr>\n",
              "      <th>count</th>\n",
              "      <td>4720.000000</td>\n",
              "      <td>4720.000000</td>\n",
              "      <td>4720.000000</td>\n",
              "      <td>4720.000000</td>\n",
              "      <td>4720.000000</td>\n",
              "      <td>4720.000000</td>\n",
              "      <td>4720.000000</td>\n",
              "      <td>4720.000000</td>\n",
              "      <td>4720.000000</td>\n",
              "      <td>4720.000000</td>\n",
              "      <td>4720.000000</td>\n",
              "      <td>4720.000000</td>\n",
              "      <td>4720.000000</td>\n",
              "    </tr>\n",
              "    <tr>\n",
              "      <th>mean</th>\n",
              "      <td>-462.617816</td>\n",
              "      <td>61.536074</td>\n",
              "      <td>3.708428</td>\n",
              "      <td>11.499180</td>\n",
              "      <td>-1.297713</td>\n",
              "      <td>-0.793502</td>\n",
              "      <td>-8.212944</td>\n",
              "      <td>-7.707062</td>\n",
              "      <td>-8.820947</td>\n",
              "      <td>-1.480588</td>\n",
              "      <td>-8.478234</td>\n",
              "      <td>0.551877</td>\n",
              "      <td>-4.249241</td>\n",
              "    </tr>\n",
              "    <tr>\n",
              "      <th>std</th>\n",
              "      <td>119.858131</td>\n",
              "      <td>26.597890</td>\n",
              "      <td>16.164749</td>\n",
              "      <td>14.983950</td>\n",
              "      <td>11.067730</td>\n",
              "      <td>7.374472</td>\n",
              "      <td>6.957445</td>\n",
              "      <td>7.161275</td>\n",
              "      <td>6.436707</td>\n",
              "      <td>5.235146</td>\n",
              "      <td>6.326577</td>\n",
              "      <td>6.379453</td>\n",
              "      <td>4.663620</td>\n",
              "    </tr>\n",
              "    <tr>\n",
              "      <th>min</th>\n",
              "      <td>-848.919070</td>\n",
              "      <td>-5.006873</td>\n",
              "      <td>-56.336224</td>\n",
              "      <td>-36.125170</td>\n",
              "      <td>-43.675873</td>\n",
              "      <td>-26.159702</td>\n",
              "      <td>-35.133877</td>\n",
              "      <td>-31.534748</td>\n",
              "      <td>-28.178675</td>\n",
              "      <td>-23.421574</td>\n",
              "      <td>-25.376469</td>\n",
              "      <td>-16.693745</td>\n",
              "      <td>-22.271100</td>\n",
              "    </tr>\n",
              "    <tr>\n",
              "      <th>25%</th>\n",
              "      <td>-538.269513</td>\n",
              "      <td>42.500910</td>\n",
              "      <td>-8.392062</td>\n",
              "      <td>1.219817</td>\n",
              "      <td>-8.319850</td>\n",
              "      <td>-5.924450</td>\n",
              "      <td>-12.594921</td>\n",
              "      <td>-12.975156</td>\n",
              "      <td>-13.790841</td>\n",
              "      <td>-4.657176</td>\n",
              "      <td>-13.029393</td>\n",
              "      <td>-4.346815</td>\n",
              "      <td>-6.977400</td>\n",
              "    </tr>\n",
              "    <tr>\n",
              "      <th>50%</th>\n",
              "      <td>-435.310965</td>\n",
              "      <td>59.710182</td>\n",
              "      <td>2.328990</td>\n",
              "      <td>10.467834</td>\n",
              "      <td>-0.981610</td>\n",
              "      <td>-0.995004</td>\n",
              "      <td>-7.974021</td>\n",
              "      <td>-7.563070</td>\n",
              "      <td>-8.736546</td>\n",
              "      <td>-1.385920</td>\n",
              "      <td>-8.761838</td>\n",
              "      <td>-0.196650</td>\n",
              "      <td>-3.930869</td>\n",
              "    </tr>\n",
              "    <tr>\n",
              "      <th>75%</th>\n",
              "      <td>-378.401825</td>\n",
              "      <td>77.381369</td>\n",
              "      <td>16.122299</td>\n",
              "      <td>21.186294</td>\n",
              "      <td>6.173053</td>\n",
              "      <td>4.184135</td>\n",
              "      <td>-3.419299</td>\n",
              "      <td>-2.176422</td>\n",
              "      <td>-4.174962</td>\n",
              "      <td>2.008315</td>\n",
              "      <td>-3.741979</td>\n",
              "      <td>4.933820</td>\n",
              "      <td>-1.214083</td>\n",
              "    </tr>\n",
              "    <tr>\n",
              "      <th>max</th>\n",
              "      <td>-196.677430</td>\n",
              "      <td>163.169360</td>\n",
              "      <td>47.717460</td>\n",
              "      <td>63.043330</td>\n",
              "      <td>30.989618</td>\n",
              "      <td>20.580652</td>\n",
              "      <td>13.158043</td>\n",
              "      <td>10.234292</td>\n",
              "      <td>10.641557</td>\n",
              "      <td>24.572657</td>\n",
              "      <td>13.467502</td>\n",
              "      <td>20.122078</td>\n",
              "      <td>18.313444</td>\n",
              "    </tr>\n",
              "  </tbody>\n",
              "</table>\n",
              "</div>"
            ],
            "text/plain": [
              "                 0            1  ...           11           12\n",
              "count  4720.000000  4720.000000  ...  4720.000000  4720.000000\n",
              "mean   -462.617816    61.536074  ...     0.551877    -4.249241\n",
              "std     119.858131    26.597890  ...     6.379453     4.663620\n",
              "min    -848.919070    -5.006873  ...   -16.693745   -22.271100\n",
              "25%    -538.269513    42.500910  ...    -4.346815    -6.977400\n",
              "50%    -435.310965    59.710182  ...    -0.196650    -3.930869\n",
              "75%    -378.401825    77.381369  ...     4.933820    -1.214083\n",
              "max    -196.677430   163.169360  ...    20.122078    18.313444\n",
              "\n",
              "[8 rows x 13 columns]"
            ]
          },
          "metadata": {},
          "execution_count": 273
        }
      ]
    },
    {
      "cell_type": "markdown",
      "metadata": {
        "id": "L-xl9tC8aC3W"
      },
      "source": [
        "##Check if data is balanced\n"
      ]
    },
    {
      "cell_type": "code",
      "metadata": {
        "colab": {
          "base_uri": "https://localhost:8080/"
        },
        "id": "gTHeWmTqD4SP",
        "outputId": "efe966a4-cfe5-4d39-f2e7-cbe9021e782c"
      },
      "source": [
        "labels.value_counts()"
      ],
      "execution_count": 274,
      "outputs": [
        {
          "output_type": "execute_result",
          "data": {
            "text/plain": [
              "13\n",
              "0     1440\n",
              "1      520\n",
              "8      460\n",
              "7      460\n",
              "6      460\n",
              "5      460\n",
              "4      460\n",
              "3      460\n",
              "dtype: int64"
            ]
          },
          "metadata": {},
          "execution_count": 274
        }
      ]
    },
    {
      "cell_type": "code",
      "metadata": {
        "id": "Pa1BRyh7yj2w",
        "colab": {
          "base_uri": "https://localhost:8080/",
          "height": 424
        },
        "outputId": "9538bb49-2435-467e-8ac5-c4dff247d3d8"
      },
      "source": [
        "data.isnull().sum()\n",
        "data"
      ],
      "execution_count": 275,
      "outputs": [
        {
          "output_type": "execute_result",
          "data": {
            "text/html": [
              "<div>\n",
              "<style scoped>\n",
              "    .dataframe tbody tr th:only-of-type {\n",
              "        vertical-align: middle;\n",
              "    }\n",
              "\n",
              "    .dataframe tbody tr th {\n",
              "        vertical-align: top;\n",
              "    }\n",
              "\n",
              "    .dataframe thead th {\n",
              "        text-align: right;\n",
              "    }\n",
              "</style>\n",
              "<table border=\"1\" class=\"dataframe\">\n",
              "  <thead>\n",
              "    <tr style=\"text-align: right;\">\n",
              "      <th></th>\n",
              "      <th>0</th>\n",
              "      <th>1</th>\n",
              "      <th>2</th>\n",
              "      <th>3</th>\n",
              "      <th>4</th>\n",
              "      <th>5</th>\n",
              "      <th>6</th>\n",
              "      <th>7</th>\n",
              "      <th>8</th>\n",
              "      <th>9</th>\n",
              "      <th>10</th>\n",
              "      <th>11</th>\n",
              "      <th>12</th>\n",
              "    </tr>\n",
              "  </thead>\n",
              "  <tbody>\n",
              "    <tr>\n",
              "      <th>0</th>\n",
              "      <td>-697.98420</td>\n",
              "      <td>55.228490</td>\n",
              "      <td>0.323863</td>\n",
              "      <td>12.775377</td>\n",
              "      <td>7.396148</td>\n",
              "      <td>0.866224</td>\n",
              "      <td>-3.550276</td>\n",
              "      <td>-2.828331</td>\n",
              "      <td>-11.305533</td>\n",
              "      <td>-2.524927</td>\n",
              "      <td>0.496104</td>\n",
              "      <td>-2.722926</td>\n",
              "      <td>1.645800</td>\n",
              "    </tr>\n",
              "    <tr>\n",
              "      <th>1</th>\n",
              "      <td>-693.06970</td>\n",
              "      <td>55.734570</td>\n",
              "      <td>-1.919739</td>\n",
              "      <td>16.408995</td>\n",
              "      <td>8.449354</td>\n",
              "      <td>0.220736</td>\n",
              "      <td>-1.738342</td>\n",
              "      <td>-4.931290</td>\n",
              "      <td>-11.981820</td>\n",
              "      <td>-0.993780</td>\n",
              "      <td>0.494107</td>\n",
              "      <td>-2.296898</td>\n",
              "      <td>0.678700</td>\n",
              "    </tr>\n",
              "    <tr>\n",
              "      <th>2</th>\n",
              "      <td>-691.77014</td>\n",
              "      <td>58.350647</td>\n",
              "      <td>-0.165160</td>\n",
              "      <td>13.952125</td>\n",
              "      <td>5.053323</td>\n",
              "      <td>1.489326</td>\n",
              "      <td>-2.397429</td>\n",
              "      <td>-5.059065</td>\n",
              "      <td>-10.638003</td>\n",
              "      <td>-3.344197</td>\n",
              "      <td>0.264550</td>\n",
              "      <td>-2.529107</td>\n",
              "      <td>1.548612</td>\n",
              "    </tr>\n",
              "    <tr>\n",
              "      <th>3</th>\n",
              "      <td>-685.23790</td>\n",
              "      <td>56.236690</td>\n",
              "      <td>2.453112</td>\n",
              "      <td>13.566655</td>\n",
              "      <td>6.701949</td>\n",
              "      <td>3.341493</td>\n",
              "      <td>-1.895052</td>\n",
              "      <td>-6.673817</td>\n",
              "      <td>-10.671633</td>\n",
              "      <td>-2.946320</td>\n",
              "      <td>0.895644</td>\n",
              "      <td>-1.203600</td>\n",
              "      <td>0.246569</td>\n",
              "    </tr>\n",
              "    <tr>\n",
              "      <th>4</th>\n",
              "      <td>-727.31793</td>\n",
              "      <td>62.764400</td>\n",
              "      <td>2.751275</td>\n",
              "      <td>15.473256</td>\n",
              "      <td>7.763115</td>\n",
              "      <td>2.330715</td>\n",
              "      <td>-3.641682</td>\n",
              "      <td>-3.367344</td>\n",
              "      <td>-10.113079</td>\n",
              "      <td>-4.470084</td>\n",
              "      <td>0.639894</td>\n",
              "      <td>-2.745656</td>\n",
              "      <td>0.198219</td>\n",
              "    </tr>\n",
              "    <tr>\n",
              "      <th>...</th>\n",
              "      <td>...</td>\n",
              "      <td>...</td>\n",
              "      <td>...</td>\n",
              "      <td>...</td>\n",
              "      <td>...</td>\n",
              "      <td>...</td>\n",
              "      <td>...</td>\n",
              "      <td>...</td>\n",
              "      <td>...</td>\n",
              "      <td>...</td>\n",
              "      <td>...</td>\n",
              "      <td>...</td>\n",
              "      <td>...</td>\n",
              "    </tr>\n",
              "    <tr>\n",
              "      <th>4715</th>\n",
              "      <td>-337.71085</td>\n",
              "      <td>24.577623</td>\n",
              "      <td>-1.306136</td>\n",
              "      <td>17.632277</td>\n",
              "      <td>7.446588</td>\n",
              "      <td>-6.186414</td>\n",
              "      <td>-5.117830</td>\n",
              "      <td>-6.004829</td>\n",
              "      <td>-19.900743</td>\n",
              "      <td>-0.745344</td>\n",
              "      <td>-13.726978</td>\n",
              "      <td>4.282166</td>\n",
              "      <td>-2.576891</td>\n",
              "    </tr>\n",
              "    <tr>\n",
              "      <th>4716</th>\n",
              "      <td>-341.39117</td>\n",
              "      <td>18.674833</td>\n",
              "      <td>-8.744924</td>\n",
              "      <td>31.468138</td>\n",
              "      <td>-2.041412</td>\n",
              "      <td>-3.963271</td>\n",
              "      <td>-11.063686</td>\n",
              "      <td>-14.789712</td>\n",
              "      <td>-2.327315</td>\n",
              "      <td>-9.505196</td>\n",
              "      <td>-9.159187</td>\n",
              "      <td>11.992616</td>\n",
              "      <td>-14.414687</td>\n",
              "    </tr>\n",
              "    <tr>\n",
              "      <th>4717</th>\n",
              "      <td>-410.27084</td>\n",
              "      <td>62.054535</td>\n",
              "      <td>7.847240</td>\n",
              "      <td>33.779780</td>\n",
              "      <td>2.148485</td>\n",
              "      <td>-5.816213</td>\n",
              "      <td>1.006762</td>\n",
              "      <td>-14.846475</td>\n",
              "      <td>-3.583664</td>\n",
              "      <td>1.204160</td>\n",
              "      <td>-16.641613</td>\n",
              "      <td>9.453328</td>\n",
              "      <td>-5.310473</td>\n",
              "    </tr>\n",
              "    <tr>\n",
              "      <th>4718</th>\n",
              "      <td>-368.92780</td>\n",
              "      <td>38.372585</td>\n",
              "      <td>-4.199680</td>\n",
              "      <td>10.174846</td>\n",
              "      <td>-14.987869</td>\n",
              "      <td>-3.139184</td>\n",
              "      <td>-8.666497</td>\n",
              "      <td>-13.981005</td>\n",
              "      <td>-13.099751</td>\n",
              "      <td>0.698087</td>\n",
              "      <td>-9.456623</td>\n",
              "      <td>8.430493</td>\n",
              "      <td>-6.322295</td>\n",
              "    </tr>\n",
              "    <tr>\n",
              "      <th>4719</th>\n",
              "      <td>-409.73386</td>\n",
              "      <td>54.063007</td>\n",
              "      <td>31.930258</td>\n",
              "      <td>40.481740</td>\n",
              "      <td>2.308402</td>\n",
              "      <td>7.344390</td>\n",
              "      <td>-3.489917</td>\n",
              "      <td>-9.723783</td>\n",
              "      <td>1.388009</td>\n",
              "      <td>-7.592349</td>\n",
              "      <td>-4.250960</td>\n",
              "      <td>2.096650</td>\n",
              "      <td>-7.660268</td>\n",
              "    </tr>\n",
              "  </tbody>\n",
              "</table>\n",
              "<p>4720 rows × 13 columns</p>\n",
              "</div>"
            ],
            "text/plain": [
              "              0          1          2  ...         10         11         12\n",
              "0    -697.98420  55.228490   0.323863  ...   0.496104  -2.722926   1.645800\n",
              "1    -693.06970  55.734570  -1.919739  ...   0.494107  -2.296898   0.678700\n",
              "2    -691.77014  58.350647  -0.165160  ...   0.264550  -2.529107   1.548612\n",
              "3    -685.23790  56.236690   2.453112  ...   0.895644  -1.203600   0.246569\n",
              "4    -727.31793  62.764400   2.751275  ...   0.639894  -2.745656   0.198219\n",
              "...         ...        ...        ...  ...        ...        ...        ...\n",
              "4715 -337.71085  24.577623  -1.306136  ... -13.726978   4.282166  -2.576891\n",
              "4716 -341.39117  18.674833  -8.744924  ...  -9.159187  11.992616 -14.414687\n",
              "4717 -410.27084  62.054535   7.847240  ... -16.641613   9.453328  -5.310473\n",
              "4718 -368.92780  38.372585  -4.199680  ...  -9.456623   8.430493  -6.322295\n",
              "4719 -409.73386  54.063007  31.930258  ...  -4.250960   2.096650  -7.660268\n",
              "\n",
              "[4720 rows x 13 columns]"
            ]
          },
          "metadata": {},
          "execution_count": 275
        }
      ]
    },
    {
      "cell_type": "code",
      "metadata": {
        "id": "95yYlOc9z78Z",
        "colab": {
          "base_uri": "https://localhost:8080/"
        },
        "outputId": "ac53b2f1-fab6-4b8d-e150-26889e6b9f2d"
      },
      "source": [
        "data.isna().sum()\n",
        "data.loc[0][:]"
      ],
      "execution_count": 276,
      "outputs": [
        {
          "output_type": "execute_result",
          "data": {
            "text/plain": [
              "0    -697.984200\n",
              "1      55.228490\n",
              "2       0.323863\n",
              "3      12.775377\n",
              "4       7.396148\n",
              "5       0.866224\n",
              "6      -3.550276\n",
              "7      -2.828331\n",
              "8     -11.305533\n",
              "9      -2.524927\n",
              "10      0.496104\n",
              "11     -2.722926\n",
              "12      1.645800\n",
              "Name: 0, dtype: float64"
            ]
          },
          "metadata": {},
          "execution_count": 276
        }
      ]
    },
    {
      "cell_type": "markdown",
      "metadata": {
        "id": "KkLrKEQ807ln"
      },
      "source": [
        "##Outliers\n"
      ]
    },
    {
      "cell_type": "code",
      "metadata": {
        "id": "MVku8KfYoiKP",
        "colab": {
          "base_uri": "https://localhost:8080/"
        },
        "outputId": "287b62b5-540b-45d8-fcdb-5f407f588f71"
      },
      "source": [
        "Q1 = data.quantile(0.25)\n",
        "Q3 = data.quantile(0.75)\n",
        "IQR = Q3 - Q1\n",
        "print(IQR)\n",
        "print(data.any() < (Q1 - 1.5*IQR)) and (data.any() > (Q3 + 1.5*IQR))\n",
        "#from scipy import stats\n",
        "#data=data[(np.abs(stats.zscore(data)) < 3).all(axis=1)]\n"
      ],
      "execution_count": 277,
      "outputs": [
        {
          "output_type": "stream",
          "name": "stdout",
          "text": [
            "0     159.867687\n",
            "1      34.880459\n",
            "2      24.514361\n",
            "3      19.966477\n",
            "4      14.492903\n",
            "5      10.108586\n",
            "6       9.175622\n",
            "7      10.798735\n",
            "8       9.615879\n",
            "9       6.665491\n",
            "10      9.287414\n",
            "11      9.280635\n",
            "12      5.763317\n",
            "dtype: float64\n",
            "0     False\n",
            "1     False\n",
            "2     False\n",
            "3     False\n",
            "4     False\n",
            "5     False\n",
            "6     False\n",
            "7     False\n",
            "8     False\n",
            "9     False\n",
            "10    False\n",
            "11    False\n",
            "12    False\n",
            "dtype: bool\n"
          ]
        }
      ]
    },
    {
      "cell_type": "code",
      "metadata": {
        "id": "iQjIkl-nudqV",
        "colab": {
          "base_uri": "https://localhost:8080/",
          "height": 1000
        },
        "outputId": "78fafd1d-beec-48fe-830a-9c03c51b1d25"
      },
      "source": [
        "for column in data:\n",
        "    plt.figure()\n",
        "    data.boxplot([column])"
      ],
      "execution_count": 278,
      "outputs": [
        {
          "output_type": "display_data",
          "data": {
            "image/png": "[encoded data removed]",
            "text/plain": [
              "<Figure size 432x288 with 1 Axes>"
            ]
          },
          "metadata": {
            "needs_background": "light"
          }
        },
        {
          "output_type": "display_data",
          "data": {
            "image/png": "[encoded data removed]",
            "text/plain": [
              "<Figure size 432x288 with 1 Axes>"
            ]
          },
          "metadata": {
            "needs_background": "light"
          }
        },
        {
          "output_type": "display_data",
          "data": {
            "image/png": "[encoded data removed]",
            "text/plain": [
              "<Figure size 432x288 with 1 Axes>"
            ]
          },
          "metadata": {
            "needs_background": "light"
          }
        },
        {
          "output_type": "display_data",
          "data": {
            "image/png": "[encoded data removed]",
            "text/plain": [
              "<Figure size 432x288 with 1 Axes>"
            ]
          },
          "metadata": {
            "needs_background": "light"
          }
        },
        {
          "output_type": "display_data",
          "data": {
            "image/png": "[encoded data removed]",
            "text/plain": [
              "<Figure size 432x288 with 1 Axes>"
            ]
          },
          "metadata": {
            "needs_background": "light"
          }
        },
        {
          "output_type": "display_data",
          "data": {
            "image/png": "[encoded data removed]",
            "text/plain": [
              "<Figure size 432x288 with 1 Axes>"
            ]
          },
          "metadata": {
            "needs_background": "light"
          }
        },
        {
          "output_type": "display_data",
          "data": {
            "image/png": "[encoded data removed]",
            "text/plain": [
              "<Figure size 432x288 with 1 Axes>"
            ]
          },
          "metadata": {
            "needs_background": "light"
          }
        },
        {
          "output_type": "display_data",
          "data": {
            "image/png": "[encoded data removed]",
            "text/plain": [
              "<Figure size 432x288 with 1 Axes>"
            ]
          },
          "metadata": {
            "needs_background": "light"
          }
        },
        {
          "output_type": "display_data",
          "data": {
            "image/png": "[encoded data removed]",
            "text/plain": [
              "<Figure size 432x288 with 1 Axes>"
            ]
          },
          "metadata": {
            "needs_background": "light"
          }
        },
        {
          "output_type": "display_data",
          "data": {
            "image/png": "[encoded data removed]",
            "text/plain": [
              "<Figure size 432x288 with 1 Axes>"
            ]
          },
          "metadata": {
            "needs_background": "light"
          }
        },
        {
          "output_type": "display_data",
          "data": {
            "image/png": "[encoded data removed]",
            "text/plain": [
              "<Figure size 432x288 with 1 Axes>"
            ]
          },
          "metadata": {
            "needs_background": "light"
          }
        },
        {
          "output_type": "display_data",
          "data": {
            "image/png": "[encoded data removed]",
            "text/plain": [
              "<Figure size 432x288 with 1 Axes>"
            ]
          },
          "metadata": {
            "needs_background": "light"
          }
        },
        {
          "output_type": "display_data",
          "data": {
            "image/png": "[encoded data removed]",
            "text/plain": [
              "<Figure size 432x288 with 1 Axes>"
            ]
          },
          "metadata": {
            "needs_background": "light"
          }
        }
      ]
    },
    {
      "cell_type": "markdown",
      "metadata": {
        "id": "wddIBr8l0_7F"
      },
      "source": [
        "##Standarization"
      ]
    },
    {
      "cell_type": "code",
      "metadata": {
        "id": "nWfxIMF706TQ"
      },
      "source": [
        "data +=848.919070 #adding abs min value to whole data just to elimiate negative values\n",
        "x = data.values\n",
        "min_max_scaler = preprocessing.MinMaxScaler()\n",
        "x_scaled = min_max_scaler.fit_transform(x)\n",
        "data = pd.DataFrame(x_scaled)"
      ],
      "execution_count": 279,
      "outputs": []
    },
    {
      "cell_type": "code",
      "metadata": {
        "id": "PBYCdVDZ1grU",
        "colab": {
          "base_uri": "https://localhost:8080/",
          "height": 424
        },
        "outputId": "55c3a780-c6f6-4054-df37-f3becd19913d"
      },
      "source": [
        "data"
      ],
      "execution_count": 280,
      "outputs": [
        {
          "output_type": "execute_result",
          "data": {
            "text/html": [
              "<div>\n",
              "<style scoped>\n",
              "    .dataframe tbody tr th:only-of-type {\n",
              "        vertical-align: middle;\n",
              "    }\n",
              "\n",
              "    .dataframe tbody tr th {\n",
              "        vertical-align: top;\n",
              "    }\n",
              "\n",
              "    .dataframe thead th {\n",
              "        text-align: right;\n",
              "    }\n",
              "</style>\n",
              "<table border=\"1\" class=\"dataframe\">\n",
              "  <thead>\n",
              "    <tr style=\"text-align: right;\">\n",
              "      <th></th>\n",
              "      <th>0</th>\n",
              "      <th>1</th>\n",
              "      <th>2</th>\n",
              "      <th>3</th>\n",
              "      <th>4</th>\n",
              "      <th>5</th>\n",
              "      <th>6</th>\n",
              "      <th>7</th>\n",
              "      <th>8</th>\n",
              "      <th>9</th>\n",
              "      <th>10</th>\n",
              "      <th>11</th>\n",
              "      <th>12</th>\n",
              "    </tr>\n",
              "  </thead>\n",
              "  <tbody>\n",
              "    <tr>\n",
              "      <th>0</th>\n",
              "      <td>0.231409</td>\n",
              "      <td>0.358168</td>\n",
              "      <td>0.544527</td>\n",
              "      <td>0.493106</td>\n",
              "      <td>0.684011</td>\n",
              "      <td>0.578214</td>\n",
              "      <td>0.654014</td>\n",
              "      <td>0.687265</td>\n",
              "      <td>0.434648</td>\n",
              "      <td>0.435399</td>\n",
              "      <td>0.666064</td>\n",
              "      <td>0.379479</td>\n",
              "      <td>0.589311</td>\n",
              "    </tr>\n",
              "    <tr>\n",
              "      <th>1</th>\n",
              "      <td>0.238944</td>\n",
              "      <td>0.361177</td>\n",
              "      <td>0.522965</td>\n",
              "      <td>0.529746</td>\n",
              "      <td>0.698117</td>\n",
              "      <td>0.564404</td>\n",
              "      <td>0.691535</td>\n",
              "      <td>0.636918</td>\n",
              "      <td>0.417227</td>\n",
              "      <td>0.467302</td>\n",
              "      <td>0.666013</td>\n",
              "      <td>0.391051</td>\n",
              "      <td>0.565481</td>\n",
              "    </tr>\n",
              "    <tr>\n",
              "      <th>2</th>\n",
              "      <td>0.240937</td>\n",
              "      <td>0.376733</td>\n",
              "      <td>0.539828</td>\n",
              "      <td>0.504972</td>\n",
              "      <td>0.652633</td>\n",
              "      <td>0.591545</td>\n",
              "      <td>0.677887</td>\n",
              "      <td>0.633859</td>\n",
              "      <td>0.451844</td>\n",
              "      <td>0.418329</td>\n",
              "      <td>0.660103</td>\n",
              "      <td>0.384743</td>\n",
              "      <td>0.586916</td>\n",
              "    </tr>\n",
              "    <tr>\n",
              "      <th>3</th>\n",
              "      <td>0.250952</td>\n",
              "      <td>0.364163</td>\n",
              "      <td>0.564990</td>\n",
              "      <td>0.501085</td>\n",
              "      <td>0.674714</td>\n",
              "      <td>0.631172</td>\n",
              "      <td>0.688290</td>\n",
              "      <td>0.595200</td>\n",
              "      <td>0.450977</td>\n",
              "      <td>0.426619</td>\n",
              "      <td>0.676350</td>\n",
              "      <td>0.420747</td>\n",
              "      <td>0.554834</td>\n",
              "    </tr>\n",
              "    <tr>\n",
              "      <th>4</th>\n",
              "      <td>0.186436</td>\n",
              "      <td>0.402978</td>\n",
              "      <td>0.567856</td>\n",
              "      <td>0.520311</td>\n",
              "      <td>0.688926</td>\n",
              "      <td>0.609546</td>\n",
              "      <td>0.652121</td>\n",
              "      <td>0.674361</td>\n",
              "      <td>0.465365</td>\n",
              "      <td>0.394870</td>\n",
              "      <td>0.669766</td>\n",
              "      <td>0.378861</td>\n",
              "      <td>0.553642</td>\n",
              "    </tr>\n",
              "    <tr>\n",
              "      <th>...</th>\n",
              "      <td>...</td>\n",
              "      <td>...</td>\n",
              "      <td>...</td>\n",
              "      <td>...</td>\n",
              "      <td>...</td>\n",
              "      <td>...</td>\n",
              "      <td>...</td>\n",
              "      <td>...</td>\n",
              "      <td>...</td>\n",
              "      <td>...</td>\n",
              "      <td>...</td>\n",
              "      <td>...</td>\n",
              "      <td>...</td>\n",
              "    </tr>\n",
              "    <tr>\n",
              "      <th>4715</th>\n",
              "      <td>0.783771</td>\n",
              "      <td>0.175914</td>\n",
              "      <td>0.528862</td>\n",
              "      <td>0.542082</td>\n",
              "      <td>0.684687</td>\n",
              "      <td>0.427324</td>\n",
              "      <td>0.621554</td>\n",
              "      <td>0.611216</td>\n",
              "      <td>0.213238</td>\n",
              "      <td>0.472478</td>\n",
              "      <td>0.299905</td>\n",
              "      <td>0.569753</td>\n",
              "      <td>0.485264</td>\n",
              "    </tr>\n",
              "    <tr>\n",
              "      <th>4716</th>\n",
              "      <td>0.778129</td>\n",
              "      <td>0.140815</td>\n",
              "      <td>0.457373</td>\n",
              "      <td>0.681601</td>\n",
              "      <td>0.557613</td>\n",
              "      <td>0.474888</td>\n",
              "      <td>0.498431</td>\n",
              "      <td>0.400896</td>\n",
              "      <td>0.665925</td>\n",
              "      <td>0.289959</td>\n",
              "      <td>0.417498</td>\n",
              "      <td>0.779186</td>\n",
              "      <td>0.193581</td>\n",
              "    </tr>\n",
              "    <tr>\n",
              "      <th>4717</th>\n",
              "      <td>0.672524</td>\n",
              "      <td>0.398757</td>\n",
              "      <td>0.616830</td>\n",
              "      <td>0.704911</td>\n",
              "      <td>0.613729</td>\n",
              "      <td>0.435245</td>\n",
              "      <td>0.748379</td>\n",
              "      <td>0.399537</td>\n",
              "      <td>0.633562</td>\n",
              "      <td>0.513098</td>\n",
              "      <td>0.224870</td>\n",
              "      <td>0.710213</td>\n",
              "      <td>0.417909</td>\n",
              "    </tr>\n",
              "    <tr>\n",
              "      <th>4718</th>\n",
              "      <td>0.735910</td>\n",
              "      <td>0.257940</td>\n",
              "      <td>0.501054</td>\n",
              "      <td>0.466882</td>\n",
              "      <td>0.384220</td>\n",
              "      <td>0.492519</td>\n",
              "      <td>0.548071</td>\n",
              "      <td>0.420257</td>\n",
              "      <td>0.388430</td>\n",
              "      <td>0.502553</td>\n",
              "      <td>0.409841</td>\n",
              "      <td>0.682430</td>\n",
              "      <td>0.392977</td>\n",
              "    </tr>\n",
              "    <tr>\n",
              "      <th>4719</th>\n",
              "      <td>0.673347</td>\n",
              "      <td>0.351238</td>\n",
              "      <td>0.848278</td>\n",
              "      <td>0.772492</td>\n",
              "      <td>0.615871</td>\n",
              "      <td>0.716813</td>\n",
              "      <td>0.655264</td>\n",
              "      <td>0.522180</td>\n",
              "      <td>0.761631</td>\n",
              "      <td>0.329815</td>\n",
              "      <td>0.543856</td>\n",
              "      <td>0.510389</td>\n",
              "      <td>0.360010</td>\n",
              "    </tr>\n",
              "  </tbody>\n",
              "</table>\n",
              "<p>4720 rows × 13 columns</p>\n",
              "</div>"
            ],
            "text/plain": [
              "            0         1         2   ...        10        11        12\n",
              "0     0.231409  0.358168  0.544527  ...  0.666064  0.379479  0.589311\n",
              "1     0.238944  0.361177  0.522965  ...  0.666013  0.391051  0.565481\n",
              "2     0.240937  0.376733  0.539828  ...  0.660103  0.384743  0.586916\n",
              "3     0.250952  0.364163  0.564990  ...  0.676350  0.420747  0.554834\n",
              "4     0.186436  0.402978  0.567856  ...  0.669766  0.378861  0.553642\n",
              "...        ...       ...       ...  ...       ...       ...       ...\n",
              "4715  0.783771  0.175914  0.528862  ...  0.299905  0.569753  0.485264\n",
              "4716  0.778129  0.140815  0.457373  ...  0.417498  0.779186  0.193581\n",
              "4717  0.672524  0.398757  0.616830  ...  0.224870  0.710213  0.417909\n",
              "4718  0.735910  0.257940  0.501054  ...  0.409841  0.682430  0.392977\n",
              "4719  0.673347  0.351238  0.848278  ...  0.543856  0.510389  0.360010\n",
              "\n",
              "[4720 rows x 13 columns]"
            ]
          },
          "metadata": {},
          "execution_count": 280
        }
      ]
    },
    {
      "cell_type": "markdown",
      "metadata": {
        "id": "x7kzI6Pu1DxU"
      },
      "source": [
        "##Splitting data\n"
      ]
    },
    {
      "cell_type": "code",
      "metadata": {
        "id": "xBi14IQ00HR3",
        "colab": {
          "base_uri": "https://localhost:8080/"
        },
        "outputId": "43c24e02-3522-4312-cc12-d2d2d9504a0e"
      },
      "source": [
        "X_train, X_test, y_train, y_test = train_test_split(data, labels, test_size=0.3, random_state=50)\n",
        "\n",
        "print(\"Number of training samples:\", X_train.shape[0])\n",
        "\n",
        "print(\"Number of testing samples:\", X_test.shape[0])\n",
        "\n",
        "print(\"Number of features:\", X_train.shape[1])\n"
      ],
      "execution_count": 281,
      "outputs": [
        {
          "output_type": "stream",
          "name": "stdout",
          "text": [
            "Number of training samples: 3304\n",
            "Number of testing samples: 1416\n",
            "Number of features: 13\n"
          ]
        }
      ]
    },
    {
      "cell_type": "markdown",
      "metadata": {
        "id": "IgsAU_wRQQMl"
      },
      "source": [
        "##Undersampling data or Oversampling - to choose"
      ]
    },
    {
      "cell_type": "code",
      "metadata": {
        "colab": {
          "base_uri": "https://localhost:8080/"
        },
        "id": "9rMwVBslOS4a",
        "outputId": "942fa824-564c-46c5-a88a-eab09cda1779"
      },
      "source": [
        "rus = RandomUnderSampler(random_state=0)\n",
        "#rus = RandomOverSampler(random_state=0)\n",
        "X_resampled, y_resampled = rus.fit_resample(X_train, y_train)\n",
        "X_resampled.shape, y_resampled.shape"
      ],
      "execution_count": 282,
      "outputs": [
        {
          "output_type": "execute_result",
          "data": {
            "text/plain": [
              "((2464, 13), (2464, 1))"
            ]
          },
          "metadata": {},
          "execution_count": 282
        }
      ]
    },
    {
      "cell_type": "code",
      "metadata": {
        "colab": {
          "base_uri": "https://localhost:8080/"
        },
        "id": "UOQAZeyIPLG3",
        "outputId": "8ec254d8-1a1b-433a-ecda-5b0caed58a38"
      },
      "source": [
        "y_resampled.value_counts()"
      ],
      "execution_count": 283,
      "outputs": [
        {
          "output_type": "execute_result",
          "data": {
            "text/plain": [
              "13\n",
              "8     308\n",
              "7     308\n",
              "6     308\n",
              "5     308\n",
              "4     308\n",
              "3     308\n",
              "1     308\n",
              "0     308\n",
              "dtype: int64"
            ]
          },
          "metadata": {},
          "execution_count": 283
        }
      ]
    },
    {
      "cell_type": "markdown",
      "metadata": {
        "id": "K6XzDxbvbdkW"
      },
      "source": [
        "## PCA "
      ]
    },
    {
      "cell_type": "code",
      "metadata": {
        "colab": {
          "base_uri": "https://localhost:8080/",
          "height": 279
        },
        "id": "A4AQo33mTjSe",
        "outputId": "362f3d8e-9ee2-42b1-eb00-d5b77b02e1b7"
      },
      "source": [
        "pca = PCA()\n",
        "X_train_new = pca.fit_transform(X_resampled)\n",
        "\n",
        "explained_variance = pca.explained_variance_ratio_\n",
        "\n",
        "plt.figure(figsize=(6, 4))\n",
        "plt.bar(np.arange(0,len(explained_variance)), explained_variance, alpha=0.5, align='center')\n",
        "plt.ylabel('Wariancja')\n",
        "plt.xlabel('Główne składowe')\n",
        "plt.show()\n",
        "\n",
        "#PCA worsen the accuracy, uncomment to use it\n",
        "\n",
        "# pca1 = PCA(n_components=10) \n",
        "# X_resampled = pca1.fit_transform(X_resampled)\n",
        "# print(X_resampled.shape)\n",
        "\n",
        "# pca1 = PCA(n_components=10) \n",
        "# X_test = pca1.fit_transform(X_test)\n",
        "# print(X_test.shape)"
      ],
      "execution_count": 284,
      "outputs": [
        {
          "output_type": "display_data",
          "data": {
            "image/png": "[encoded data removed]",
            "text/plain": [
              "<Figure size 432x288 with 1 Axes>"
            ]
          },
          "metadata": {
            "needs_background": "light"
          }
        }
      ]
    },
    {
      "cell_type": "markdown",
      "metadata": {
        "id": "hiYRqpQRaK8x"
      },
      "source": [
        "## Grid Search - finding best combination of hyperparameters"
      ]
    },
    {
      "cell_type": "code",
      "metadata": {
        "id": "NH4TZePj1PKQ"
      },
      "source": [
        "# Uncoment to use grid search to find best hyperparameters - already found ->model_params\n",
        "\n",
        "# model = MLPClassifier()\n",
        "\n",
        "# parameter_space = {\n",
        "#     'hidden_layer_sizes': [(200,),(300,)],\n",
        "#     'activation': ['tanh', 'relu'],\n",
        "#     'solver': ['sgd', 'adam'],\n",
        "#     'alpha': [0.01, 0.1],\n",
        "#     'learning_rate': ['constant','adaptive'],\n",
        "#     'max_iter': [200, 500],\n",
        "#     'batch_size': [100, 254]\n",
        "    \n",
        "# }\n",
        "\n",
        "# clf = GridSearchCV(model, parameter_space, n_jobs=-1, cv=5)\n",
        "# clf.fit(X_train, y_train) \n"
      ],
      "execution_count": 285,
      "outputs": []
    },
    {
      "cell_type": "code",
      "metadata": {
        "id": "QtrH1Rw_Mg9i"
      },
      "source": [
        "#print('Best parameters found:\\n', clf.best_params_)"
      ],
      "execution_count": 286,
      "outputs": []
    },
    {
      "cell_type": "code",
      "metadata": {
        "id": "1-aEWclOiLg5"
      },
      "source": [
        "# means = clf.cv_results_['mean_test_score']\n",
        "# stds = clf.cv_results_['std_test_score']\n",
        "# for mean, std, params in zip(means, stds, clf.cv_results_['params']):\n",
        "#     print(\"%0.3f (+/-%0.03f) for %r\" % (mean, std * 2, params))"
      ],
      "execution_count": 287,
      "outputs": []
    },
    {
      "cell_type": "code",
      "metadata": {
        "id": "yuQK4b40gf6L",
        "colab": {
          "base_uri": "https://localhost:8080/"
        },
        "outputId": "5e083fe6-ebcf-43af-b436-77473ca6f84f"
      },
      "source": [
        "model_params = {\n",
        "    'activation': 'relu',\n",
        "    'alpha': 0.01,\n",
        "    'batch_size': 254,\n",
        "    'hidden_layer_sizes': (300,),\n",
        "    'learning_rate': 'adaptive',\n",
        "    'max_iter': 200,\n",
        "    'solver': 'adam'\n",
        "}\n",
        "\n",
        "model = MLPClassifier(**model_params)\n",
        "model.fit(X_resampled, y_resampled)\n",
        "\n",
        "y_true, y_pred = y_test, model.predict(X_test)\n",
        "\n",
        "accuracy = accuracy_score(y_true, y_pred)\n",
        "\n",
        "print(\"Accuracy: {:.2f}%\".format(accuracy*100))"
      ],
      "execution_count": 288,
      "outputs": [
        {
          "output_type": "stream",
          "name": "stderr",
          "text": [
            "/usr/local/lib/python3.7/dist-packages/sklearn/neural_network/_multilayer_perceptron.py:1109: DataConversionWarning: A column-vector y was passed when a 1d array was expected. Please change the shape of y to (n_samples, ), for example using ravel().\n",
            "  y = column_or_1d(y, warn=True)\n"
          ]
        },
        {
          "output_type": "stream",
          "name": "stdout",
          "text": [
            "Accuracy: 86.86%\n"
          ]
        },
        {
          "output_type": "stream",
          "name": "stderr",
          "text": [
            "/usr/local/lib/python3.7/dist-packages/sklearn/neural_network/_multilayer_perceptron.py:696: ConvergenceWarning: Stochastic Optimizer: Maximum iterations (200) reached and the optimization hasn't converged yet.\n",
            "  ConvergenceWarning,\n"
          ]
        }
      ]
    },
    {
      "cell_type": "code",
      "metadata": {
        "colab": {
          "base_uri": "https://localhost:8080/"
        },
        "id": "mgNMHHJhTCuF",
        "outputId": "497350b1-9f7c-4284-cc9f-dd1ad48d3e16"
      },
      "source": [
        "print(model.n_layers_)\n",
        "print(model.n_iter_)\n",
        "print(model.loss_)"
      ],
      "execution_count": 289,
      "outputs": [
        {
          "output_type": "stream",
          "name": "stdout",
          "text": [
            "3\n",
            "200\n",
            "0.45219087063697727\n"
          ]
        }
      ]
    },
    {
      "cell_type": "code",
      "metadata": {
        "id": "BBCqSuHAdhlD",
        "colab": {
          "base_uri": "https://localhost:8080/"
        },
        "outputId": "5e79e731-3bdb-4b51-de5b-2a5144f5ccf8"
      },
      "source": [
        "print('Results on the test set:')\n",
        "print(classification_report(y_true, y_pred))\n",
        "confusion_matrix(y_true, y_pred)"
      ],
      "execution_count": 290,
      "outputs": [
        {
          "output_type": "stream",
          "name": "stdout",
          "text": [
            "Results on the test set:\n",
            "              precision    recall  f1-score   support\n",
            "\n",
            "           0       1.00      0.99      1.00       413\n",
            "           1       0.86      0.81      0.83       160\n",
            "           3       0.73      0.77      0.75       146\n",
            "           4       0.80      0.91      0.85       122\n",
            "           5       0.88      0.82      0.85       152\n",
            "           6       0.80      0.85      0.82       132\n",
            "           7       0.83      0.86      0.84       151\n",
            "           8       0.81      0.71      0.76       140\n",
            "\n",
            "    accuracy                           0.87      1416\n",
            "   macro avg       0.84      0.84      0.84      1416\n",
            "weighted avg       0.87      0.87      0.87      1416\n",
            "\n"
          ]
        },
        {
          "output_type": "execute_result",
          "data": {
            "text/plain": [
              "array([[410,   0,   1,   0,   1,   0,   0,   1],\n",
              "       [  0, 129,   0,  21,   0,   1,   9,   0],\n",
              "       [  1,   0, 113,   0,   8,   7,   4,  13],\n",
              "       [  0,   6,   0, 111,   0,   0,   5,   0],\n",
              "       [  0,   4,   9,   0, 125,   8,   2,   4],\n",
              "       [  0,   1,   9,   0,   2, 112,   2,   6],\n",
              "       [  0,  10,   3,   6,   0,   2, 130,   0],\n",
              "       [  0,   0,  19,   0,   6,  10,   5, 100]])"
            ]
          },
          "metadata": {},
          "execution_count": 290
        }
      ]
    },
    {
      "cell_type": "markdown",
      "metadata": {
        "id": "PDhNdgtobcZb"
      },
      "source": [
        "## Saving model"
      ]
    },
    {
      "cell_type": "code",
      "metadata": {
        "id": "XtncLJQMbCvM"
      },
      "source": [
        "if not os.path.isdir(\"result\"):\n",
        "    os.mkdir(\"result\")\n",
        "\n",
        "pickle.dump(clf, open(\"result/new_mlp.model\", \"wb\"))\n"
      ],
      "execution_count": 291,
      "outputs": []
    },
    {
      "cell_type": "markdown",
      "metadata": {
        "id": "ziErWozgdhSn"
      },
      "source": [
        ""
      ]
    }
  ]
}